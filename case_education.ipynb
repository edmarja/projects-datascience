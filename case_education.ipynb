{
  "cells": [
    {
      "cell_type": "markdown",
      "metadata": {
        "id": "view-in-github",
        "colab_type": "text"
      },
      "source": [
        "<a href=\"https://colab.research.google.com/github/edmarja/projects-datascience/blob/main/case_education.ipynb\" target=\"_parent\"><img src=\"https://colab.research.google.com/assets/colab-badge.svg\" alt=\"Open In Colab\"/></a>"
      ]
    },
    {
      "cell_type": "markdown",
      "metadata": {
        "id": "myDIO4gr6qXO"
      },
      "source": [
        "## **Escenario**\n",
        "Eres un analista de datos para el distrito escolar local y te han pedido que resumas el desempeño de los estudiantes senior del colegio en una nueva prueba estandarizada.\n",
        "\n",
        "A la administración le gustaría ver una tabla con las estadísticas resumidas para los ocho colegios del distrito. La tabla debería incluir el nombre del colegio, el número de seniors, el número de seniors que hicieron la prueba, el porcentaje de seniors que se ausentaron durante la prueba y las estadísticas del desempeño en la prueba como la media, la mediana y las calificaciones máximas y mínimas.\n",
        "\n",
        "Toda la información necesaria se ha recopilado en un archivo de Excel de tres hojas. La hoja ``school_dict`` contiene el identificador numérico del colegio y el nombre, ``student_counts`` contiene el número de estudiantes matriculados por colegio y nivel, y ``test_results`` contiene identificador numérico de cada estudiante, el identificador del colegio y la calificación de la prueba.\n",
        "\n",
        "En este estudio de caso validarás rápidamente las calificaciones de la prueba a través de los diagramas de caja y crearás la tabla requerida combinando información de las tres hojas."
      ]
    },
    {
      "cell_type": "code",
      "execution_count": null,
      "metadata": {
        "id": "QniaYKbd6qXQ"
      },
      "outputs": [],
      "source": [
        "import pandas as pd"
      ]
    },
    {
      "cell_type": "code",
      "execution_count": null,
      "metadata": {
        "id": "QniMsHtk6qXQ"
      },
      "outputs": [],
      "source": [
        "# carga el diccionario del colegio (school_dict sheet)\n",
        "school_dict= pd.read_excel('standardized_test_results_esp.xlsx', sheet_name= 0)\n",
        "\n",
        "# carga el recuento de estudiantes (student_counts sheet)\n",
        "student_cts = pd.read_excel('standardized_test_results_esp.xlsx', sheet_name=1,)\n",
        "\n",
        "# carga los resultados de la prueba (test_results sheet)\n",
        "student_scores = pd.read_excel('standardized_test_results_esp.xlsx', sheet_name=2)"
      ]
    },
    {
      "cell_type": "code",
      "execution_count": null,
      "metadata": {
        "id": "MqlWAUMc6qXR",
        "outputId": "58c634dd-7ae2-4ce0-8dac-f0b0321180b3"
      },
      "outputs": [
        {
          "name": "stdout",
          "output_type": "stream",
          "text": [
            "   school_ID                        school_name\n",
            "0       5753                Instituto Elk Creek\n",
            "1       9069       Instituto Martin Luther King\n",
            "2       6221           Instituto Harriet Tubman\n",
            "3       6299           Instituto Fred Korematsu\n",
            "4       9239                 Instituto Lakewood\n",
            "5       8342           Instituto Trout Mountain\n",
            "6       9856  Instituto y Academia Angela Davis\n",
            "7       9631            Instituto James Baldwin\n",
            "\n"
          ]
        },
        {
          "data": {
            "text/html": [
              "<div>\n",
              "<style scoped>\n",
              "    .dataframe tbody tr th:only-of-type {\n",
              "        vertical-align: middle;\n",
              "    }\n",
              "\n",
              "    .dataframe tbody tr th {\n",
              "        vertical-align: top;\n",
              "    }\n",
              "\n",
              "    .dataframe thead th {\n",
              "        text-align: right;\n",
              "    }\n",
              "</style>\n",
              "<table border=\"1\" class=\"dataframe\">\n",
              "  <thead>\n",
              "    <tr style=\"text-align: right;\">\n",
              "      <th></th>\n",
              "      <th>school_name</th>\n",
              "      <th>n_students9</th>\n",
              "      <th>n_students10</th>\n",
              "      <th>n_students11</th>\n",
              "      <th>n_students12</th>\n",
              "    </tr>\n",
              "  </thead>\n",
              "  <tbody>\n",
              "    <tr>\n",
              "      <th>0</th>\n",
              "      <td>Instituto Elk Creek</td>\n",
              "      <td>410</td>\n",
              "      <td>393</td>\n",
              "      <td>378</td>\n",
              "      <td>400</td>\n",
              "    </tr>\n",
              "    <tr>\n",
              "      <th>1</th>\n",
              "      <td>Instituto Martin Luther King</td>\n",
              "      <td>350</td>\n",
              "      <td>356</td>\n",
              "      <td>334</td>\n",
              "      <td>338</td>\n",
              "    </tr>\n",
              "    <tr>\n",
              "      <th>2</th>\n",
              "      <td>Instituto Harriet Tubman</td>\n",
              "      <td>407</td>\n",
              "      <td>375</td>\n",
              "      <td>406</td>\n",
              "      <td>370</td>\n",
              "    </tr>\n",
              "    <tr>\n",
              "      <th>3</th>\n",
              "      <td>Instituto Fred Korematsu</td>\n",
              "      <td>366</td>\n",
              "      <td>361</td>\n",
              "      <td>338</td>\n",
              "      <td>349</td>\n",
              "    </tr>\n",
              "    <tr>\n",
              "      <th>4</th>\n",
              "      <td>Instituto Lakewood</td>\n",
              "      <td>263</td>\n",
              "      <td>289</td>\n",
              "      <td>288</td>\n",
              "      <td>268</td>\n",
              "    </tr>\n",
              "    <tr>\n",
              "      <th>5</th>\n",
              "      <td>Instituto Trout Mountain</td>\n",
              "      <td>363</td>\n",
              "      <td>361</td>\n",
              "      <td>387</td>\n",
              "      <td>357</td>\n",
              "    </tr>\n",
              "    <tr>\n",
              "      <th>6</th>\n",
              "      <td>Instituto y Academia Angela Davis</td>\n",
              "      <td>450</td>\n",
              "      <td>478</td>\n",
              "      <td>521</td>\n",
              "      <td>488</td>\n",
              "    </tr>\n",
              "    <tr>\n",
              "      <th>7</th>\n",
              "      <td>Instituto James Baldwin</td>\n",
              "      <td>233</td>\n",
              "      <td>223</td>\n",
              "      <td>227</td>\n",
              "      <td>217</td>\n",
              "    </tr>\n",
              "  </tbody>\n",
              "</table>\n",
              "</div>"
            ],
            "text/plain": [
              "                         school_name  n_students9  n_students10  n_students11  \\\n",
              "0                Instituto Elk Creek          410           393           378   \n",
              "1       Instituto Martin Luther King          350           356           334   \n",
              "2           Instituto Harriet Tubman          407           375           406   \n",
              "3           Instituto Fred Korematsu          366           361           338   \n",
              "4                 Instituto Lakewood          263           289           288   \n",
              "5           Instituto Trout Mountain          363           361           387   \n",
              "6  Instituto y Academia Angela Davis          450           478           521   \n",
              "7            Instituto James Baldwin          233           223           227   \n",
              "\n",
              "   n_students12  \n",
              "0           400  \n",
              "1           338  \n",
              "2           370  \n",
              "3           349  \n",
              "4           268  \n",
              "5           357  \n",
              "6           488  \n",
              "7           217  "
            ]
          },
          "execution_count": 8,
          "metadata": {},
          "output_type": "execute_result"
        }
      ],
      "source": [
        "# imprime el diccionario del colegio\n",
        "print(school_dict)\n",
        "print()\n",
        "# imprime el recuento de estudiantes\n",
        "student_cts"
      ]
    },
    {
      "cell_type": "code",
      "execution_count": null,
      "metadata": {
        "id": "xWO_AfZe6qXR",
        "outputId": "73674542-4b89-47d1-bce4-0521f0778c97"
      },
      "outputs": [
        {
          "name": "stdout",
          "output_type": "stream",
          "text": [
            "   school_ID  student_ID  scores\n",
            "0       5753      100535      93\n",
            "1       5753      100173      99\n",
            "2       5753      100049      86\n",
            "3       5753      100678      93\n",
            "4       5753      100088      90\n",
            "\n",
            "Número total de alumnos: 2787\n"
          ]
        }
      ],
      "source": [
        "# imprime las primeras 5 filas de student_scores\n",
        "print(student_scores.head())\n",
        "print()\n",
        "# imprime \"Número total de alumnos:\" con la longitud de student_scores\n",
        "print('Número total de alumnos:', len(student_scores))"
      ]
    },
    {
      "cell_type": "markdown",
      "metadata": {
        "id": "pw7qgAqC6qXS"
      },
      "source": [
        "Antes de crear informes o datos para compartirlos, debes decidir cuan seguro estás de esos datos.\n",
        "\n",
        "Para confiar en los datos student_scores, haz diagramas de caja de las calificaciones de cada colegio y estudia las distribuciones. Utiliza los parámetros opcionales de boxplot() ``column='variable para trazar'`` y ``by='variable de agrupación'``."
      ]
    },
    {
      "cell_type": "code",
      "execution_count": null,
      "metadata": {
        "id": "UdTBLqpl6qXS"
      },
      "outputs": [],
      "source": [
        "import matplotlib.pyplot as plt"
      ]
    },
    {
      "cell_type": "code",
      "execution_count": null,
      "metadata": {
        "id": "nI4OgMyb6qXS",
        "outputId": "f2356a25-f1ac-4458-cd20-380d7dd9f804"
      },
      "outputs": [
        {
          "data": {
            "image/png": "[encoded data removed]",
            "text/plain": [
              "<Figure size 640x480 with 1 Axes>"
            ]
          },
          "metadata": {},
          "output_type": "display_data"
        }
      ],
      "source": [
        "student_scores.boxplot(column='scores', by='school_ID')\n",
        "plt.show()"
      ]
    },
    {
      "cell_type": "markdown",
      "metadata": {
        "id": "dDxyjSXA6qXS"
      },
      "source": [
        "Observamos que hay valores negativos!!. \n",
        "\n",
        "Resulta que -99 se utiliza como un código numérico para \"estudiante ausente\". Necesitarás eliminar estos valores y rediseñar los diagramas de caja.\n",
        "Actualiza ``student_scores`` escribiendo una consulta que seleccione todas las filas donde ``scores`` no sea igual a -99. En la consulta, menciona la variable provista ``missing_indicator``.\n",
        "\n",
        "Crea los diagramas de caja de nuevo pero hazlos más grandes. Configura el tamaño de la figura a 15 por 6 pulgadas."
      ]
    },
    {
      "cell_type": "code",
      "execution_count": null,
      "metadata": {
        "id": "e19KTlsy6qXS",
        "outputId": "1bd07fbe-f81e-46a5-e8db-03c30f8e4e0e"
      },
      "outputs": [
        {
          "data": {
            "text/html": [
              "<div>\n",
              "<style scoped>\n",
              "    .dataframe tbody tr th:only-of-type {\n",
              "        vertical-align: middle;\n",
              "    }\n",
              "\n",
              "    .dataframe tbody tr th {\n",
              "        vertical-align: top;\n",
              "    }\n",
              "\n",
              "    .dataframe thead th {\n",
              "        text-align: right;\n",
              "    }\n",
              "</style>\n",
              "<table border=\"1\" class=\"dataframe\">\n",
              "  <thead>\n",
              "    <tr style=\"text-align: right;\">\n",
              "      <th></th>\n",
              "      <th>school_ID</th>\n",
              "      <th>student_ID</th>\n",
              "      <th>scores</th>\n",
              "    </tr>\n",
              "  </thead>\n",
              "  <tbody>\n",
              "    <tr>\n",
              "      <th>6</th>\n",
              "      <td>5753</td>\n",
              "      <td>100433</td>\n",
              "      <td>-99</td>\n",
              "    </tr>\n",
              "    <tr>\n",
              "      <th>26</th>\n",
              "      <td>5753</td>\n",
              "      <td>100792</td>\n",
              "      <td>-99</td>\n",
              "    </tr>\n",
              "    <tr>\n",
              "      <th>27</th>\n",
              "      <td>5753</td>\n",
              "      <td>100836</td>\n",
              "      <td>-99</td>\n",
              "    </tr>\n",
              "    <tr>\n",
              "      <th>28</th>\n",
              "      <td>5753</td>\n",
              "      <td>100562</td>\n",
              "      <td>-99</td>\n",
              "    </tr>\n",
              "    <tr>\n",
              "      <th>32</th>\n",
              "      <td>5753</td>\n",
              "      <td>100069</td>\n",
              "      <td>-99</td>\n",
              "    </tr>\n",
              "    <tr>\n",
              "      <th>...</th>\n",
              "      <td>...</td>\n",
              "      <td>...</td>\n",
              "      <td>...</td>\n",
              "    </tr>\n",
              "    <tr>\n",
              "      <th>2681</th>\n",
              "      <td>9631</td>\n",
              "      <td>800297</td>\n",
              "      <td>-99</td>\n",
              "    </tr>\n",
              "    <tr>\n",
              "      <th>2710</th>\n",
              "      <td>9631</td>\n",
              "      <td>800135</td>\n",
              "      <td>-99</td>\n",
              "    </tr>\n",
              "    <tr>\n",
              "      <th>2731</th>\n",
              "      <td>9631</td>\n",
              "      <td>800531</td>\n",
              "      <td>-99</td>\n",
              "    </tr>\n",
              "    <tr>\n",
              "      <th>2733</th>\n",
              "      <td>9631</td>\n",
              "      <td>800000</td>\n",
              "      <td>-99</td>\n",
              "    </tr>\n",
              "    <tr>\n",
              "      <th>2743</th>\n",
              "      <td>9631</td>\n",
              "      <td>800039</td>\n",
              "      <td>-99</td>\n",
              "    </tr>\n",
              "  </tbody>\n",
              "</table>\n",
              "<p>253 rows × 3 columns</p>\n",
              "</div>"
            ],
            "text/plain": [
              "      school_ID  student_ID  scores\n",
              "6          5753      100433     -99\n",
              "26         5753      100792     -99\n",
              "27         5753      100836     -99\n",
              "28         5753      100562     -99\n",
              "32         5753      100069     -99\n",
              "...         ...         ...     ...\n",
              "2681       9631      800297     -99\n",
              "2710       9631      800135     -99\n",
              "2731       9631      800531     -99\n",
              "2733       9631      800000     -99\n",
              "2743       9631      800039     -99\n",
              "\n",
              "[253 rows x 3 columns]"
            ]
          },
          "execution_count": 13,
          "metadata": {},
          "output_type": "execute_result"
        }
      ],
      "source": [
        "student_scores[student_scores.scores == -99]"
      ]
    },
    {
      "cell_type": "code",
      "execution_count": null,
      "metadata": {
        "id": "fvYj7nRO6qXT",
        "outputId": "df0143fb-7e8e-4b54-dc18-ab5a710308e0"
      },
      "outputs": [
        {
          "data": {
            "text/html": [
              "<div>\n",
              "<style scoped>\n",
              "    .dataframe tbody tr th:only-of-type {\n",
              "        vertical-align: middle;\n",
              "    }\n",
              "\n",
              "    .dataframe tbody tr th {\n",
              "        vertical-align: top;\n",
              "    }\n",
              "\n",
              "    .dataframe thead th {\n",
              "        text-align: right;\n",
              "    }\n",
              "</style>\n",
              "<table border=\"1\" class=\"dataframe\">\n",
              "  <thead>\n",
              "    <tr style=\"text-align: right;\">\n",
              "      <th></th>\n",
              "      <th>school_ID</th>\n",
              "      <th>student_ID</th>\n",
              "      <th>scores</th>\n",
              "    </tr>\n",
              "  </thead>\n",
              "  <tbody>\n",
              "  </tbody>\n",
              "</table>\n",
              "</div>"
            ],
            "text/plain": [
              "Empty DataFrame\n",
              "Columns: [school_ID, student_ID, scores]\n",
              "Index: []"
            ]
          },
          "execution_count": 6,
          "metadata": {},
          "output_type": "execute_result"
        }
      ],
      "source": [
        "#código de estudiante ausente\n",
        "missing_indicator = -99\n",
        "\n",
        "student_scores = student_scores.query('scores != -99')\n",
        "\n",
        "#comprobamos que ya no esté dicho valor\n",
        "student_scores[student_scores.scores == -99]\n"
      ]
    },
    {
      "cell_type": "code",
      "execution_count": null,
      "metadata": {
        "id": "amIEicUL6qXT",
        "outputId": "1cca7455-bb97-45ca-b5db-d44e81b2dd0e"
      },
      "outputs": [
        {
          "data": {
            "image/png": "[encoded data removed]",
            "text/plain": [
              "<Figure size 1500x600 with 1 Axes>"
            ]
          },
          "metadata": {},
          "output_type": "display_data"
        }
      ],
      "source": [
        "#creamos nuestyro gráfico nuevamente\n",
        "student_scores.boxplot(column='scores', by='school_ID', figsize=(15,6))\n",
        "plt.show()"
      ]
    },
    {
      "cell_type": "markdown",
      "metadata": {
        "id": "fn9MJ9GO6qXT"
      },
      "source": [
        ">### **El panorama general hasta ahora**\n",
        ">Tras cargar los datos, podrías haber empezado inmediatamente a crear la tabla que la administración te pidió. En su lugar, hiciste tu propia verificación de datos visualizando la distribución de las calificaciones, por colegio, utilizando los diagramas de caja. Lo hiciste bien porque nadie te habló de los valores -99. Eliminaste estos valores y rehiciste los diagramas de caja. A partir de los diagramas de caja, verás que no hay valores mayores de 100 o menores de 66, que hay valores atípicos altos y bajos, y que algunos colegios tienen calificaciones más dispersas (school_ID = 9631) en comparación con otros (school_ID = 6221). En general, los valores son realistas y las distribuciones son similares de alguna forma. No se plantean preguntas así que podemos confiar en los datos."
      ]
    },
    {
      "cell_type": "markdown",
      "metadata": {
        "id": "ChRnEcZE6qXT"
      },
      "source": [
        "Las partes interesadas a menudo te dirán lo que piensan que quieren, lo que a veces es diferente a lo que realmente necesitan. No te pidieron que crearas diagramas de caja, pero sabes que estas figuras sintetizan perfectamente las semejanzas y las diferencias en las calificaciones entre colegios que es lo que la administración necesita saber. Tú decides incluirlo con la tabla."
      ]
    },
    {
      "cell_type": "markdown",
      "metadata": {
        "id": "Yg_dWqCa6qXT"
      },
      "source": [
        "La claridad puede realizarse reemplazando los valores numéricos ``school_ID`` con los nombres de los colegios. Haz eso añadiendo ``school_name`` al conjunto de datos ``student_scores`` y rediseñando.\n",
        "1. Utiliza ``merge()`` para añadir ``school_name`` desde el diccionario del colegio al conjunto de datos de las calificaciones del estudiante.\n",
        "2. Imprime las cinco primeras filas de ``student_scores_with_school`` para asegurarte de que ha funcionado."
      ]
    },
    {
      "cell_type": "code",
      "execution_count": null,
      "metadata": {
        "id": "GME0OUgZ6qXT",
        "outputId": "aaf4f630-461f-4e09-b4af-387f0de9decd"
      },
      "outputs": [
        {
          "data": {
            "text/html": [
              "<div>\n",
              "<style scoped>\n",
              "    .dataframe tbody tr th:only-of-type {\n",
              "        vertical-align: middle;\n",
              "    }\n",
              "\n",
              "    .dataframe tbody tr th {\n",
              "        vertical-align: top;\n",
              "    }\n",
              "\n",
              "    .dataframe thead th {\n",
              "        text-align: right;\n",
              "    }\n",
              "</style>\n",
              "<table border=\"1\" class=\"dataframe\">\n",
              "  <thead>\n",
              "    <tr style=\"text-align: right;\">\n",
              "      <th></th>\n",
              "      <th>school_ID</th>\n",
              "      <th>student_ID</th>\n",
              "      <th>scores</th>\n",
              "      <th>school_name</th>\n",
              "    </tr>\n",
              "  </thead>\n",
              "  <tbody>\n",
              "    <tr>\n",
              "      <th>0</th>\n",
              "      <td>5753</td>\n",
              "      <td>100535</td>\n",
              "      <td>93</td>\n",
              "      <td>Instituto Elk Creek</td>\n",
              "    </tr>\n",
              "    <tr>\n",
              "      <th>1</th>\n",
              "      <td>5753</td>\n",
              "      <td>100173</td>\n",
              "      <td>99</td>\n",
              "      <td>Instituto Elk Creek</td>\n",
              "    </tr>\n",
              "    <tr>\n",
              "      <th>2</th>\n",
              "      <td>5753</td>\n",
              "      <td>100049</td>\n",
              "      <td>86</td>\n",
              "      <td>Instituto Elk Creek</td>\n",
              "    </tr>\n",
              "    <tr>\n",
              "      <th>3</th>\n",
              "      <td>5753</td>\n",
              "      <td>100678</td>\n",
              "      <td>93</td>\n",
              "      <td>Instituto Elk Creek</td>\n",
              "    </tr>\n",
              "    <tr>\n",
              "      <th>4</th>\n",
              "      <td>5753</td>\n",
              "      <td>100088</td>\n",
              "      <td>90</td>\n",
              "      <td>Instituto Elk Creek</td>\n",
              "    </tr>\n",
              "  </tbody>\n",
              "</table>\n",
              "</div>"
            ],
            "text/plain": [
              "   school_ID  student_ID  scores          school_name\n",
              "0       5753      100535      93  Instituto Elk Creek\n",
              "1       5753      100173      99  Instituto Elk Creek\n",
              "2       5753      100049      86  Instituto Elk Creek\n",
              "3       5753      100678      93  Instituto Elk Creek\n",
              "4       5753      100088      90  Instituto Elk Creek"
            ]
          },
          "execution_count": 7,
          "metadata": {},
          "output_type": "execute_result"
        }
      ],
      "source": [
        "# fusiona school_dict en student_scores para añadir school_name\n",
        "student_scores_with_school= student_scores.merge(school_dict, on='school_ID')\n",
        "\n",
        "student_scores_with_school.head()"
      ]
    },
    {
      "cell_type": "code",
      "execution_count": null,
      "metadata": {
        "id": "hF5tp58t6qXT",
        "outputId": "5feae02a-a242-4c7b-a814-86609f3bbbf0"
      },
      "outputs": [
        {
          "data": {
            "image/png": "[encoded data removed]",
            "text/plain": [
              "<Figure size 640x480 with 1 Axes>"
            ]
          },
          "metadata": {},
          "output_type": "display_data"
        }
      ],
      "source": [
        "#Recreamos los diagramas de caja. Esta vez agrupado por school_name.\n",
        "student_scores_with_school.boxplot(column='scores', by='school_name')\n",
        "plt.xticks(rotation=90)\n",
        "plt.show()"
      ]
    },
    {
      "cell_type": "markdown",
      "metadata": {
        "id": "MI8sXeJb6qXU"
      },
      "source": [
        "Los nombres de los colegios se ven apilados. Hay que rotarlos."
      ]
    },
    {
      "cell_type": "code",
      "execution_count": null,
      "metadata": {
        "id": "qKr57lpQ6qXU",
        "outputId": "81a9b1f7-38fa-4cfe-f4ec-395390fe672c"
      },
      "outputs": [
        {
          "data": {
            "image/png": "[encoded data removed]",
            "text/plain": [
              "<Figure size 1500x600 with 1 Axes>"
            ]
          },
          "metadata": {},
          "output_type": "display_data"
        }
      ],
      "source": [
        "student_scores_with_school.boxplot(column='scores', by='school_name', figsize=(15,6))\n",
        "plt.xticks(rotation=60) #rotación a 60°\n",
        "plt.show()"
      ]
    },
    {
      "cell_type": "markdown",
      "metadata": {
        "id": "9QdkmfkR6qXU"
      },
      "source": [
        ">## **¡Importante!**\n",
        ">La comparación del ejercicio 3 y 5 revela una conducta predeterminada de boxplot() con el argumento by=: los diagramas de caja, por grupo, se ordenan en orden numérico o alfabético. A menos que haya una razón para ordenar estos colegios de otra forma, el orden es algo que depende de ti. ¿Te parece bien el orden alfabético? ¿O deberíamos ordenar por orden decreciente de las medianas o rangos (máximo-mínimo)? Lo dejaremos como está por ahora pero esto es algo que siempre hay que tener en cuenta."
      ]
    },
    {
      "cell_type": "markdown",
      "metadata": {
        "id": "rQN-DVar6qXU"
      },
      "source": [
        "Deja momentáneamente los diagramas de caja y empieza a crear la tabla que la administración pidió.\n",
        "1. Crea una tabla dinámica de 'scores', por school_ID, con el recuento de estadísticas, media, mediana, mínimo y máximo."
      ]
    },
    {
      "cell_type": "code",
      "execution_count": null,
      "metadata": {
        "id": "S_QUHWop6qXU",
        "outputId": "66d5768a-6067-419f-9a09-20030104c648"
      },
      "outputs": [
        {
          "data": {
            "text/html": [
              "<div>\n",
              "<style scoped>\n",
              "    .dataframe tbody tr th:only-of-type {\n",
              "        vertical-align: middle;\n",
              "    }\n",
              "\n",
              "    .dataframe tbody tr th {\n",
              "        vertical-align: top;\n",
              "    }\n",
              "\n",
              "    .dataframe thead tr th {\n",
              "        text-align: left;\n",
              "    }\n",
              "\n",
              "    .dataframe thead tr:last-of-type th {\n",
              "        text-align: right;\n",
              "    }\n",
              "</style>\n",
              "<table border=\"1\" class=\"dataframe\">\n",
              "  <thead>\n",
              "    <tr>\n",
              "      <th></th>\n",
              "      <th>count</th>\n",
              "      <th>mean</th>\n",
              "      <th>median</th>\n",
              "      <th>min</th>\n",
              "      <th>max</th>\n",
              "    </tr>\n",
              "    <tr>\n",
              "      <th></th>\n",
              "      <th>scores</th>\n",
              "      <th>scores</th>\n",
              "      <th>scores</th>\n",
              "      <th>scores</th>\n",
              "      <th>scores</th>\n",
              "    </tr>\n",
              "    <tr>\n",
              "      <th>school_ID</th>\n",
              "      <th></th>\n",
              "      <th></th>\n",
              "      <th></th>\n",
              "      <th></th>\n",
              "      <th></th>\n",
              "    </tr>\n",
              "  </thead>\n",
              "  <tbody>\n",
              "    <tr>\n",
              "      <th>5753</th>\n",
              "      <td>356</td>\n",
              "      <td>92.014045</td>\n",
              "      <td>92.0</td>\n",
              "      <td>79</td>\n",
              "      <td>100</td>\n",
              "    </tr>\n",
              "    <tr>\n",
              "      <th>6221</th>\n",
              "      <td>337</td>\n",
              "      <td>92.916914</td>\n",
              "      <td>93.0</td>\n",
              "      <td>79</td>\n",
              "      <td>100</td>\n",
              "    </tr>\n",
              "    <tr>\n",
              "      <th>6299</th>\n",
              "      <td>339</td>\n",
              "      <td>89.182891</td>\n",
              "      <td>89.0</td>\n",
              "      <td>77</td>\n",
              "      <td>100</td>\n",
              "    </tr>\n",
              "    <tr>\n",
              "      <th>8342</th>\n",
              "      <td>332</td>\n",
              "      <td>78.629518</td>\n",
              "      <td>78.5</td>\n",
              "      <td>66</td>\n",
              "      <td>93</td>\n",
              "    </tr>\n",
              "    <tr>\n",
              "      <th>9069</th>\n",
              "      <td>311</td>\n",
              "      <td>84.919614</td>\n",
              "      <td>85.0</td>\n",
              "      <td>69</td>\n",
              "      <td>100</td>\n",
              "    </tr>\n",
              "  </tbody>\n",
              "</table>\n",
              "</div>"
            ],
            "text/plain": [
              "           count       mean median    min    max\n",
              "          scores     scores scores scores scores\n",
              "school_ID                                       \n",
              "5753         356  92.014045   92.0     79    100\n",
              "6221         337  92.916914   93.0     79    100\n",
              "6299         339  89.182891   89.0     77    100\n",
              "8342         332  78.629518   78.5     66     93\n",
              "9069         311  84.919614   85.0     69    100"
            ]
          },
          "execution_count": 20,
          "metadata": {},
          "output_type": "execute_result"
        }
      ],
      "source": [
        "student_scores_stat = student_scores.pivot_table(index='school_ID', values='scores', aggfunc=['count','mean', 'median', 'min', 'max'] )\n",
        "student_scores_stat.head()"
      ]
    },
    {
      "cell_type": "markdown",
      "metadata": {
        "id": "9XTfR9ln6qXU"
      },
      "source": [
        "Este es el comienzo de la tabla que la administración quiere ver. Todavía hace falta añadir dos columnas (número de seniors y porcentaje de seniors que estban ausentes) y limpiar la tabla."
      ]
    },
    {
      "cell_type": "markdown",
      "metadata": {
        "id": "WNBnLvo46qXU"
      },
      "source": [
        "Cambia el nombre de las columnas a 'n_test', 'mean', 'median', 'min' y 'max'. Imprime de nuevo la tabla para verificar el cambio."
      ]
    },
    {
      "cell_type": "code",
      "execution_count": null,
      "metadata": {
        "id": "sneHfYzk6qXW",
        "outputId": "0c1c7cb6-9272-461c-e366-dcfbb21c3d9a"
      },
      "outputs": [
        {
          "data": {
            "text/html": [
              "<div>\n",
              "<style scoped>\n",
              "    .dataframe tbody tr th:only-of-type {\n",
              "        vertical-align: middle;\n",
              "    }\n",
              "\n",
              "    .dataframe tbody tr th {\n",
              "        vertical-align: top;\n",
              "    }\n",
              "\n",
              "    .dataframe thead th {\n",
              "        text-align: right;\n",
              "    }\n",
              "</style>\n",
              "<table border=\"1\" class=\"dataframe\">\n",
              "  <thead>\n",
              "    <tr style=\"text-align: right;\">\n",
              "      <th></th>\n",
              "      <th>n_test</th>\n",
              "      <th>mean</th>\n",
              "      <th>median</th>\n",
              "      <th>min</th>\n",
              "      <th>max</th>\n",
              "    </tr>\n",
              "    <tr>\n",
              "      <th>school_ID</th>\n",
              "      <th></th>\n",
              "      <th></th>\n",
              "      <th></th>\n",
              "      <th></th>\n",
              "      <th></th>\n",
              "    </tr>\n",
              "  </thead>\n",
              "  <tbody>\n",
              "    <tr>\n",
              "      <th>5753</th>\n",
              "      <td>356</td>\n",
              "      <td>92.014045</td>\n",
              "      <td>92.0</td>\n",
              "      <td>79</td>\n",
              "      <td>100</td>\n",
              "    </tr>\n",
              "    <tr>\n",
              "      <th>6221</th>\n",
              "      <td>337</td>\n",
              "      <td>92.916914</td>\n",
              "      <td>93.0</td>\n",
              "      <td>79</td>\n",
              "      <td>100</td>\n",
              "    </tr>\n",
              "    <tr>\n",
              "      <th>6299</th>\n",
              "      <td>339</td>\n",
              "      <td>89.182891</td>\n",
              "      <td>89.0</td>\n",
              "      <td>77</td>\n",
              "      <td>100</td>\n",
              "    </tr>\n",
              "    <tr>\n",
              "      <th>8342</th>\n",
              "      <td>332</td>\n",
              "      <td>78.629518</td>\n",
              "      <td>78.5</td>\n",
              "      <td>66</td>\n",
              "      <td>93</td>\n",
              "    </tr>\n",
              "    <tr>\n",
              "      <th>9069</th>\n",
              "      <td>311</td>\n",
              "      <td>84.919614</td>\n",
              "      <td>85.0</td>\n",
              "      <td>69</td>\n",
              "      <td>100</td>\n",
              "    </tr>\n",
              "  </tbody>\n",
              "</table>\n",
              "</div>"
            ],
            "text/plain": [
              "           n_test       mean  median  min  max\n",
              "school_ID                                     \n",
              "5753          356  92.014045    92.0   79  100\n",
              "6221          337  92.916914    93.0   79  100\n",
              "6299          339  89.182891    89.0   77  100\n",
              "8342          332  78.629518    78.5   66   93\n",
              "9069          311  84.919614    85.0   69  100"
            ]
          },
          "execution_count": 21,
          "metadata": {},
          "output_type": "execute_result"
        }
      ],
      "source": [
        "student_scores_stat.columns = ['n_test', 'mean', 'median', 'min', 'max']\n",
        "student_scores_stat.head()"
      ]
    },
    {
      "cell_type": "markdown",
      "metadata": {
        "id": "CNVRc58h6qXW"
      },
      "source": [
        "Continúa limpiando la tabla cambiando el índice de student_scores_stat a 'school_name'.\n",
        "\n",
        "Primero, necesitas añadir la columna 'school_name' a la tabla con el argumento ``join()``. También se podría usar ``merge()`` y no habría necesidad de cambiar el índice; pero para practicar usaremos join(). Recordemos que ``join()`` trabaja con índices."
      ]
    },
    {
      "cell_type": "code",
      "execution_count": null,
      "metadata": {
        "id": "bTM_53Jv6qXX",
        "outputId": "0497d02c-2df6-4c4a-d0d6-0ce375d7e542"
      },
      "outputs": [
        {
          "name": "stdout",
          "output_type": "stream",
          "text": [
            "   school_ID                   school_name\n",
            "0       5753           Instituto Elk Creek\n",
            "1       9069  Instituto Martin Luther King\n",
            "2       6221      Instituto Harriet Tubman\n",
            "3       6299      Instituto Fred Korematsu\n",
            "4       9239            Instituto Lakewood\n",
            "\n"
          ]
        },
        {
          "data": {
            "text/html": [
              "<div>\n",
              "<style scoped>\n",
              "    .dataframe tbody tr th:only-of-type {\n",
              "        vertical-align: middle;\n",
              "    }\n",
              "\n",
              "    .dataframe tbody tr th {\n",
              "        vertical-align: top;\n",
              "    }\n",
              "\n",
              "    .dataframe thead th {\n",
              "        text-align: right;\n",
              "    }\n",
              "</style>\n",
              "<table border=\"1\" class=\"dataframe\">\n",
              "  <thead>\n",
              "    <tr style=\"text-align: right;\">\n",
              "      <th></th>\n",
              "      <th>n_test</th>\n",
              "      <th>mean</th>\n",
              "      <th>median</th>\n",
              "      <th>min</th>\n",
              "      <th>max</th>\n",
              "    </tr>\n",
              "    <tr>\n",
              "      <th>school_ID</th>\n",
              "      <th></th>\n",
              "      <th></th>\n",
              "      <th></th>\n",
              "      <th></th>\n",
              "      <th></th>\n",
              "    </tr>\n",
              "  </thead>\n",
              "  <tbody>\n",
              "    <tr>\n",
              "      <th>5753</th>\n",
              "      <td>356</td>\n",
              "      <td>92.014045</td>\n",
              "      <td>92.0</td>\n",
              "      <td>79</td>\n",
              "      <td>100</td>\n",
              "    </tr>\n",
              "    <tr>\n",
              "      <th>6221</th>\n",
              "      <td>337</td>\n",
              "      <td>92.916914</td>\n",
              "      <td>93.0</td>\n",
              "      <td>79</td>\n",
              "      <td>100</td>\n",
              "    </tr>\n",
              "    <tr>\n",
              "      <th>6299</th>\n",
              "      <td>339</td>\n",
              "      <td>89.182891</td>\n",
              "      <td>89.0</td>\n",
              "      <td>77</td>\n",
              "      <td>100</td>\n",
              "    </tr>\n",
              "    <tr>\n",
              "      <th>8342</th>\n",
              "      <td>332</td>\n",
              "      <td>78.629518</td>\n",
              "      <td>78.5</td>\n",
              "      <td>66</td>\n",
              "      <td>93</td>\n",
              "    </tr>\n",
              "    <tr>\n",
              "      <th>9069</th>\n",
              "      <td>311</td>\n",
              "      <td>84.919614</td>\n",
              "      <td>85.0</td>\n",
              "      <td>69</td>\n",
              "      <td>100</td>\n",
              "    </tr>\n",
              "  </tbody>\n",
              "</table>\n",
              "</div>"
            ],
            "text/plain": [
              "           n_test       mean  median  min  max\n",
              "school_ID                                     \n",
              "5753          356  92.014045    92.0   79  100\n",
              "6221          337  92.916914    93.0   79  100\n",
              "6299          339  89.182891    89.0   77  100\n",
              "8342          332  78.629518    78.5   66   93\n",
              "9069          311  84.919614    85.0   69  100"
            ]
          },
          "execution_count": 22,
          "metadata": {},
          "output_type": "execute_result"
        }
      ],
      "source": [
        "#mostramos la tabla school_dict\n",
        "print(school_dict.head())\n",
        "print()\n",
        "\n",
        "#mostramos la tabla student_scores_stat\n",
        "student_scores_stat.head()"
      ]
    },
    {
      "cell_type": "markdown",
      "metadata": {
        "id": "sdDRDlDs6qXX"
      },
      "source": [
        "Obervamos que el índice es 0,1,2,3.... Es por ello que tenemos que usar ``set.index()`` para cambiar el índice de school_dict para que coincida con el índice de student_scores_stat"
      ]
    },
    {
      "cell_type": "code",
      "execution_count": null,
      "metadata": {
        "id": "EsUIDDcb6qXX",
        "outputId": "c9aff8a3-8efb-4aa3-d272-f3d828ae1499"
      },
      "outputs": [
        {
          "data": {
            "text/html": [
              "<div>\n",
              "<style scoped>\n",
              "    .dataframe tbody tr th:only-of-type {\n",
              "        vertical-align: middle;\n",
              "    }\n",
              "\n",
              "    .dataframe tbody tr th {\n",
              "        vertical-align: top;\n",
              "    }\n",
              "\n",
              "    .dataframe thead th {\n",
              "        text-align: right;\n",
              "    }\n",
              "</style>\n",
              "<table border=\"1\" class=\"dataframe\">\n",
              "  <thead>\n",
              "    <tr style=\"text-align: right;\">\n",
              "      <th></th>\n",
              "      <th>n_test</th>\n",
              "      <th>mean</th>\n",
              "      <th>median</th>\n",
              "      <th>min</th>\n",
              "      <th>max</th>\n",
              "      <th>school_name</th>\n",
              "    </tr>\n",
              "    <tr>\n",
              "      <th>school_ID</th>\n",
              "      <th></th>\n",
              "      <th></th>\n",
              "      <th></th>\n",
              "      <th></th>\n",
              "      <th></th>\n",
              "      <th></th>\n",
              "    </tr>\n",
              "  </thead>\n",
              "  <tbody>\n",
              "    <tr>\n",
              "      <th>5753</th>\n",
              "      <td>356</td>\n",
              "      <td>92.014045</td>\n",
              "      <td>92.0</td>\n",
              "      <td>79</td>\n",
              "      <td>100</td>\n",
              "      <td>Instituto Elk Creek</td>\n",
              "    </tr>\n",
              "    <tr>\n",
              "      <th>6221</th>\n",
              "      <td>337</td>\n",
              "      <td>92.916914</td>\n",
              "      <td>93.0</td>\n",
              "      <td>79</td>\n",
              "      <td>100</td>\n",
              "      <td>Instituto Harriet Tubman</td>\n",
              "    </tr>\n",
              "    <tr>\n",
              "      <th>6299</th>\n",
              "      <td>339</td>\n",
              "      <td>89.182891</td>\n",
              "      <td>89.0</td>\n",
              "      <td>77</td>\n",
              "      <td>100</td>\n",
              "      <td>Instituto Fred Korematsu</td>\n",
              "    </tr>\n",
              "    <tr>\n",
              "      <th>8342</th>\n",
              "      <td>332</td>\n",
              "      <td>78.629518</td>\n",
              "      <td>78.5</td>\n",
              "      <td>66</td>\n",
              "      <td>93</td>\n",
              "      <td>Instituto Trout Mountain</td>\n",
              "    </tr>\n",
              "    <tr>\n",
              "      <th>9069</th>\n",
              "      <td>311</td>\n",
              "      <td>84.919614</td>\n",
              "      <td>85.0</td>\n",
              "      <td>69</td>\n",
              "      <td>100</td>\n",
              "      <td>Instituto Martin Luther King</td>\n",
              "    </tr>\n",
              "  </tbody>\n",
              "</table>\n",
              "</div>"
            ],
            "text/plain": [
              "           n_test       mean  median  min  max                   school_name\n",
              "school_ID                                                                   \n",
              "5753          356  92.014045    92.0   79  100           Instituto Elk Creek\n",
              "6221          337  92.916914    93.0   79  100      Instituto Harriet Tubman\n",
              "6299          339  89.182891    89.0   77  100      Instituto Fred Korematsu\n",
              "8342          332  78.629518    78.5   66   93      Instituto Trout Mountain\n",
              "9069          311  84.919614    85.0   69  100  Instituto Martin Luther King"
            ]
          },
          "execution_count": 23,
          "metadata": {},
          "output_type": "execute_result"
        }
      ],
      "source": [
        "student_scores_stat = student_scores_stat.join(school_dict.set_index('school_ID'), on='school_ID')\n",
        "student_scores_stat.head()"
      ]
    },
    {
      "cell_type": "code",
      "execution_count": null,
      "metadata": {
        "id": "nuLMJJta6qXX",
        "outputId": "ae94a635-762a-4638-d14d-3ec8a989a7d6"
      },
      "outputs": [
        {
          "data": {
            "text/html": [
              "<div>\n",
              "<style scoped>\n",
              "    .dataframe tbody tr th:only-of-type {\n",
              "        vertical-align: middle;\n",
              "    }\n",
              "\n",
              "    .dataframe tbody tr th {\n",
              "        vertical-align: top;\n",
              "    }\n",
              "\n",
              "    .dataframe thead th {\n",
              "        text-align: right;\n",
              "    }\n",
              "</style>\n",
              "<table border=\"1\" class=\"dataframe\">\n",
              "  <thead>\n",
              "    <tr style=\"text-align: right;\">\n",
              "      <th></th>\n",
              "      <th>n_test</th>\n",
              "      <th>mean</th>\n",
              "      <th>median</th>\n",
              "      <th>min</th>\n",
              "      <th>max</th>\n",
              "    </tr>\n",
              "    <tr>\n",
              "      <th>school_name</th>\n",
              "      <th></th>\n",
              "      <th></th>\n",
              "      <th></th>\n",
              "      <th></th>\n",
              "      <th></th>\n",
              "    </tr>\n",
              "  </thead>\n",
              "  <tbody>\n",
              "    <tr>\n",
              "      <th>Instituto Elk Creek</th>\n",
              "      <td>356</td>\n",
              "      <td>92.014045</td>\n",
              "      <td>92.0</td>\n",
              "      <td>79</td>\n",
              "      <td>100</td>\n",
              "    </tr>\n",
              "    <tr>\n",
              "      <th>Instituto Harriet Tubman</th>\n",
              "      <td>337</td>\n",
              "      <td>92.916914</td>\n",
              "      <td>93.0</td>\n",
              "      <td>79</td>\n",
              "      <td>100</td>\n",
              "    </tr>\n",
              "    <tr>\n",
              "      <th>Instituto Fred Korematsu</th>\n",
              "      <td>339</td>\n",
              "      <td>89.182891</td>\n",
              "      <td>89.0</td>\n",
              "      <td>77</td>\n",
              "      <td>100</td>\n",
              "    </tr>\n",
              "    <tr>\n",
              "      <th>Instituto Trout Mountain</th>\n",
              "      <td>332</td>\n",
              "      <td>78.629518</td>\n",
              "      <td>78.5</td>\n",
              "      <td>66</td>\n",
              "      <td>93</td>\n",
              "    </tr>\n",
              "    <tr>\n",
              "      <th>Instituto Martin Luther King</th>\n",
              "      <td>311</td>\n",
              "      <td>84.919614</td>\n",
              "      <td>85.0</td>\n",
              "      <td>69</td>\n",
              "      <td>100</td>\n",
              "    </tr>\n",
              "  </tbody>\n",
              "</table>\n",
              "</div>"
            ],
            "text/plain": [
              "                              n_test       mean  median  min  max\n",
              "school_name                                                      \n",
              "Instituto Elk Creek              356  92.014045    92.0   79  100\n",
              "Instituto Harriet Tubman         337  92.916914    93.0   79  100\n",
              "Instituto Fred Korematsu         339  89.182891    89.0   77  100\n",
              "Instituto Trout Mountain         332  78.629518    78.5   66   93\n",
              "Instituto Martin Luther King     311  84.919614    85.0   69  100"
            ]
          },
          "execution_count": 24,
          "metadata": {},
          "output_type": "execute_result"
        }
      ],
      "source": [
        "#ahora establecemos school_name como índice en la tabla student_scores_stat\n",
        "student_scores_stat = student_scores_stat.set_index('school_name')\n",
        "student_scores_stat.head()"
      ]
    },
    {
      "cell_type": "markdown",
      "metadata": {
        "id": "Vtq-3e3Y6qXX"
      },
      "source": [
        "La administración quiere que la tabla incluya el número de seniors de cada colegio. Añade esta columna (nómbrala 'n_seniors') a la tabla sin utilizar el método, es decir, sin declaración de fusión o unión. Recordemos que la columna ``n_students12`` de la hoja de excel student_count contiene los seniors."
      ]
    },
    {
      "cell_type": "code",
      "execution_count": null,
      "metadata": {
        "id": "8DqgO7My6qXX",
        "outputId": "a4efd1a4-96fe-4b37-cb0c-b1bb5bbe1620"
      },
      "outputs": [
        {
          "name": "stdout",
          "output_type": "stream",
          "text": [
            "                    school_name  n_students9  n_students10  n_students11  \\\n",
            "0           Instituto Elk Creek          410           393           378   \n",
            "1  Instituto Martin Luther King          350           356           334   \n",
            "2      Instituto Harriet Tubman          407           375           406   \n",
            "3      Instituto Fred Korematsu          366           361           338   \n",
            "4            Instituto Lakewood          263           289           288   \n",
            "\n",
            "   n_students12  \n",
            "0           400  \n",
            "1           338  \n",
            "2           370  \n",
            "3           349  \n",
            "4           268  \n",
            "\n"
          ]
        },
        {
          "data": {
            "text/html": [
              "<div>\n",
              "<style scoped>\n",
              "    .dataframe tbody tr th:only-of-type {\n",
              "        vertical-align: middle;\n",
              "    }\n",
              "\n",
              "    .dataframe tbody tr th {\n",
              "        vertical-align: top;\n",
              "    }\n",
              "\n",
              "    .dataframe thead th {\n",
              "        text-align: right;\n",
              "    }\n",
              "</style>\n",
              "<table border=\"1\" class=\"dataframe\">\n",
              "  <thead>\n",
              "    <tr style=\"text-align: right;\">\n",
              "      <th></th>\n",
              "      <th>n_students9</th>\n",
              "      <th>n_students10</th>\n",
              "      <th>n_students11</th>\n",
              "      <th>n_students12</th>\n",
              "    </tr>\n",
              "    <tr>\n",
              "      <th>school_name</th>\n",
              "      <th></th>\n",
              "      <th></th>\n",
              "      <th></th>\n",
              "      <th></th>\n",
              "    </tr>\n",
              "  </thead>\n",
              "  <tbody>\n",
              "    <tr>\n",
              "      <th>Instituto Elk Creek</th>\n",
              "      <td>410</td>\n",
              "      <td>393</td>\n",
              "      <td>378</td>\n",
              "      <td>400</td>\n",
              "    </tr>\n",
              "    <tr>\n",
              "      <th>Instituto Martin Luther King</th>\n",
              "      <td>350</td>\n",
              "      <td>356</td>\n",
              "      <td>334</td>\n",
              "      <td>338</td>\n",
              "    </tr>\n",
              "    <tr>\n",
              "      <th>Instituto Harriet Tubman</th>\n",
              "      <td>407</td>\n",
              "      <td>375</td>\n",
              "      <td>406</td>\n",
              "      <td>370</td>\n",
              "    </tr>\n",
              "    <tr>\n",
              "      <th>Instituto Fred Korematsu</th>\n",
              "      <td>366</td>\n",
              "      <td>361</td>\n",
              "      <td>338</td>\n",
              "      <td>349</td>\n",
              "    </tr>\n",
              "    <tr>\n",
              "      <th>Instituto Lakewood</th>\n",
              "      <td>263</td>\n",
              "      <td>289</td>\n",
              "      <td>288</td>\n",
              "      <td>268</td>\n",
              "    </tr>\n",
              "  </tbody>\n",
              "</table>\n",
              "</div>"
            ],
            "text/plain": [
              "                              n_students9  n_students10  n_students11  \\\n",
              "school_name                                                             \n",
              "Instituto Elk Creek                   410           393           378   \n",
              "Instituto Martin Luther King          350           356           334   \n",
              "Instituto Harriet Tubman              407           375           406   \n",
              "Instituto Fred Korematsu              366           361           338   \n",
              "Instituto Lakewood                    263           289           288   \n",
              "\n",
              "                              n_students12  \n",
              "school_name                                 \n",
              "Instituto Elk Creek                    400  \n",
              "Instituto Martin Luther King           338  \n",
              "Instituto Harriet Tubman               370  \n",
              "Instituto Fred Korematsu               349  \n",
              "Instituto Lakewood                     268  "
            ]
          },
          "execution_count": 26,
          "metadata": {},
          "output_type": "execute_result"
        }
      ],
      "source": [
        "student_cts = pd.read_excel('standardized_test_results_esp.xlsx', sheet_name=1,)\n",
        "#mostramos la tabla\n",
        "print(student_cts.head())\n",
        "print()\n",
        "\n",
        "#cambiamos el índice, que el indice sea school_name\n",
        "student_cts = student_cts.set_index('school_name')\n",
        "student_cts.head()"
      ]
    },
    {
      "cell_type": "code",
      "execution_count": null,
      "metadata": {
        "id": "gF-CA6KJ6qXY",
        "outputId": "e7027fc8-4c0c-4d57-df19-c066ca0da5b2"
      },
      "outputs": [
        {
          "data": {
            "text/html": [
              "<div>\n",
              "<style scoped>\n",
              "    .dataframe tbody tr th:only-of-type {\n",
              "        vertical-align: middle;\n",
              "    }\n",
              "\n",
              "    .dataframe tbody tr th {\n",
              "        vertical-align: top;\n",
              "    }\n",
              "\n",
              "    .dataframe thead th {\n",
              "        text-align: right;\n",
              "    }\n",
              "</style>\n",
              "<table border=\"1\" class=\"dataframe\">\n",
              "  <thead>\n",
              "    <tr style=\"text-align: right;\">\n",
              "      <th></th>\n",
              "      <th>n_test</th>\n",
              "      <th>mean</th>\n",
              "      <th>median</th>\n",
              "      <th>min</th>\n",
              "      <th>max</th>\n",
              "      <th>n_seniors</th>\n",
              "    </tr>\n",
              "    <tr>\n",
              "      <th>school_name</th>\n",
              "      <th></th>\n",
              "      <th></th>\n",
              "      <th></th>\n",
              "      <th></th>\n",
              "      <th></th>\n",
              "      <th></th>\n",
              "    </tr>\n",
              "  </thead>\n",
              "  <tbody>\n",
              "    <tr>\n",
              "      <th>Instituto Elk Creek</th>\n",
              "      <td>356</td>\n",
              "      <td>92.014045</td>\n",
              "      <td>92.0</td>\n",
              "      <td>79</td>\n",
              "      <td>100</td>\n",
              "      <td>400</td>\n",
              "    </tr>\n",
              "    <tr>\n",
              "      <th>Instituto Harriet Tubman</th>\n",
              "      <td>337</td>\n",
              "      <td>92.916914</td>\n",
              "      <td>93.0</td>\n",
              "      <td>79</td>\n",
              "      <td>100</td>\n",
              "      <td>370</td>\n",
              "    </tr>\n",
              "    <tr>\n",
              "      <th>Instituto Fred Korematsu</th>\n",
              "      <td>339</td>\n",
              "      <td>89.182891</td>\n",
              "      <td>89.0</td>\n",
              "      <td>77</td>\n",
              "      <td>100</td>\n",
              "      <td>349</td>\n",
              "    </tr>\n",
              "    <tr>\n",
              "      <th>Instituto Trout Mountain</th>\n",
              "      <td>332</td>\n",
              "      <td>78.629518</td>\n",
              "      <td>78.5</td>\n",
              "      <td>66</td>\n",
              "      <td>93</td>\n",
              "      <td>357</td>\n",
              "    </tr>\n",
              "    <tr>\n",
              "      <th>Instituto Martin Luther King</th>\n",
              "      <td>311</td>\n",
              "      <td>84.919614</td>\n",
              "      <td>85.0</td>\n",
              "      <td>69</td>\n",
              "      <td>100</td>\n",
              "      <td>338</td>\n",
              "    </tr>\n",
              "  </tbody>\n",
              "</table>\n",
              "</div>"
            ],
            "text/plain": [
              "                              n_test       mean  median  min  max  n_seniors\n",
              "school_name                                                                 \n",
              "Instituto Elk Creek              356  92.014045    92.0   79  100        400\n",
              "Instituto Harriet Tubman         337  92.916914    93.0   79  100        370\n",
              "Instituto Fred Korematsu         339  89.182891    89.0   77  100        349\n",
              "Instituto Trout Mountain         332  78.629518    78.5   66   93        357\n",
              "Instituto Martin Luther King     311  84.919614    85.0   69  100        338"
            ]
          },
          "execution_count": 27,
          "metadata": {},
          "output_type": "execute_result"
        }
      ],
      "source": [
        "## crea la columna n_seniors utilizando la columna n_students12 \n",
        "student_scores_stat['n_seniors'] = student_cts['n_students12']\n",
        "student_scores_stat.head()"
      ]
    },
    {
      "cell_type": "markdown",
      "metadata": {
        "id": "bsxyQn9S6qXY"
      },
      "source": [
        "La última columna a añadir es el porcentaje de estudiantes seniors que estuvieron ausentes y no hicieron la prueba. El porcentaje de estudiantes que sí hicieron la prueba se puede encontrar dividiendo 'n_test' entre 'n_seniors'. 1 menos este número te dará el porcentaje de estudiantes que estaban ausentes.\n",
        "Calcula este valor y añádelo a la tabla con el nombre de columna 'pct_absent'."
      ]
    },
    {
      "cell_type": "code",
      "execution_count": null,
      "metadata": {
        "id": "mwPqNxc56qXY",
        "outputId": "f696fc17-778e-4225-86ba-fe43583ee345"
      },
      "outputs": [
        {
          "data": {
            "text/html": [
              "<div>\n",
              "<style scoped>\n",
              "    .dataframe tbody tr th:only-of-type {\n",
              "        vertical-align: middle;\n",
              "    }\n",
              "\n",
              "    .dataframe tbody tr th {\n",
              "        vertical-align: top;\n",
              "    }\n",
              "\n",
              "    .dataframe thead th {\n",
              "        text-align: right;\n",
              "    }\n",
              "</style>\n",
              "<table border=\"1\" class=\"dataframe\">\n",
              "  <thead>\n",
              "    <tr style=\"text-align: right;\">\n",
              "      <th></th>\n",
              "      <th>n_test</th>\n",
              "      <th>mean</th>\n",
              "      <th>median</th>\n",
              "      <th>min</th>\n",
              "      <th>max</th>\n",
              "      <th>n_seniors</th>\n",
              "      <th>pct_absent</th>\n",
              "    </tr>\n",
              "    <tr>\n",
              "      <th>school_name</th>\n",
              "      <th></th>\n",
              "      <th></th>\n",
              "      <th></th>\n",
              "      <th></th>\n",
              "      <th></th>\n",
              "      <th></th>\n",
              "      <th></th>\n",
              "    </tr>\n",
              "  </thead>\n",
              "  <tbody>\n",
              "    <tr>\n",
              "      <th>Instituto Elk Creek</th>\n",
              "      <td>356</td>\n",
              "      <td>92.014045</td>\n",
              "      <td>92.0</td>\n",
              "      <td>79</td>\n",
              "      <td>100</td>\n",
              "      <td>400</td>\n",
              "      <td>0.110000</td>\n",
              "    </tr>\n",
              "    <tr>\n",
              "      <th>Instituto Harriet Tubman</th>\n",
              "      <td>337</td>\n",
              "      <td>92.916914</td>\n",
              "      <td>93.0</td>\n",
              "      <td>79</td>\n",
              "      <td>100</td>\n",
              "      <td>370</td>\n",
              "      <td>0.089189</td>\n",
              "    </tr>\n",
              "    <tr>\n",
              "      <th>Instituto Fred Korematsu</th>\n",
              "      <td>339</td>\n",
              "      <td>89.182891</td>\n",
              "      <td>89.0</td>\n",
              "      <td>77</td>\n",
              "      <td>100</td>\n",
              "      <td>349</td>\n",
              "      <td>0.028653</td>\n",
              "    </tr>\n",
              "    <tr>\n",
              "      <th>Instituto Trout Mountain</th>\n",
              "      <td>332</td>\n",
              "      <td>78.629518</td>\n",
              "      <td>78.5</td>\n",
              "      <td>66</td>\n",
              "      <td>93</td>\n",
              "      <td>357</td>\n",
              "      <td>0.070028</td>\n",
              "    </tr>\n",
              "    <tr>\n",
              "      <th>Instituto Martin Luther King</th>\n",
              "      <td>311</td>\n",
              "      <td>84.919614</td>\n",
              "      <td>85.0</td>\n",
              "      <td>69</td>\n",
              "      <td>100</td>\n",
              "      <td>338</td>\n",
              "      <td>0.079882</td>\n",
              "    </tr>\n",
              "  </tbody>\n",
              "</table>\n",
              "</div>"
            ],
            "text/plain": [
              "                              n_test       mean  median  min  max  n_seniors  \\\n",
              "school_name                                                                    \n",
              "Instituto Elk Creek              356  92.014045    92.0   79  100        400   \n",
              "Instituto Harriet Tubman         337  92.916914    93.0   79  100        370   \n",
              "Instituto Fred Korematsu         339  89.182891    89.0   77  100        349   \n",
              "Instituto Trout Mountain         332  78.629518    78.5   66   93        357   \n",
              "Instituto Martin Luther King     311  84.919614    85.0   69  100        338   \n",
              "\n",
              "                              pct_absent  \n",
              "school_name                               \n",
              "Instituto Elk Creek             0.110000  \n",
              "Instituto Harriet Tubman        0.089189  \n",
              "Instituto Fred Korematsu        0.028653  \n",
              "Instituto Trout Mountain        0.070028  \n",
              "Instituto Martin Luther King    0.079882  "
            ]
          },
          "execution_count": 32,
          "metadata": {},
          "output_type": "execute_result"
        }
      ],
      "source": [
        "#calculamos el procentaje de seniors que no asistieron al examen y las agregamos a la nueva columna pct_absent\n",
        "student_scores_stat['pct_absent'] = 1-student_scores_stat.n_test/student_scores_stat.n_seniors\n",
        "student_scores_stat.head()"
      ]
    },
    {
      "cell_type": "markdown",
      "metadata": {
        "id": "JdtHW9x-6qXY"
      },
      "source": [
        "Listo. Esta tabla contine la información necesaria y junto con el diagrama de caja aportarn información para la jefatura como la similitud y diferencia entre colegios "
      ]
    },
    {
      "cell_type": "markdown",
      "metadata": {
        "id": "MaHXg-FL6qXY"
      },
      "source": [
        "## **Resumen**\n",
        "La mejor validación, sin embargo, es la consistencia. En este caso, estás aportando a la administración una tabla de las estadísticas resumidas y un conjunto de diagramas de caja. Antes de entregarlos, valdría la pena comprobar la consistencia entre los dos. ¿El mínimo, la mediana y el máximo de los valores corresponden a los valores en los diagramas de caja para cada colegio? Si no es así, algo está mal en tu código. Recuerda, solo porque tu código no produzca un error no significa que no se haya cometido un fallo. Es mejor que seas tú quien encuentre los errores antes de que lo haga alguien más.\n",
        "\n",
        "Siempre que produzcas resultados, deberías ser tú la primera persona que los analice. Sentarse, pensar y quedarse mirando fijamente los datos es parte de tu trabajo. No pienses que no puedes perder tiempo en esto."
      ]
    }
  ],
  "metadata": {
    "kernelspec": {
      "display_name": "Python 3",
      "language": "python",
      "name": "python3"
    },
    "language_info": {
      "codemirror_mode": {
        "name": "ipython",
        "version": 3
      },
      "file_extension": ".py",
      "mimetype": "text/x-python",
      "name": "python",
      "nbconvert_exporter": "python",
      "pygments_lexer": "ipython3",
      "version": "3.11.0"
    },
    "orig_nbformat": 4,
    "colab": {
      "provenance": [],
      "include_colab_link": true
    }
  },
  "nbformat": 4,
  "nbformat_minor": 0
}